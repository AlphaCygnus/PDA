{
 "cells": [
  {
   "cell_type": "code",
   "execution_count": 1,
   "id": "59140a96",
   "metadata": {},
   "outputs": [],
   "source": [
    "import pandas as pd"
   ]
  },
  {
   "cell_type": "code",
   "execution_count": 2,
   "id": "d0b7435b",
   "metadata": {},
   "outputs": [
    {
     "name": "stdout",
     "output_type": "stream",
     "text": [
      "          A     B   C     D\n",
      "Row 1  12.0   7.0  20  14.0\n",
      "Row 2   4.0   2.0  16   3.0\n",
      "Row 3   5.0  54.0  11   NaN\n",
      "Row 4   NaN   3.0   3   2.0\n",
      "Row 5   1.0   NaN   8   6.0\n"
     ]
    }
   ],
   "source": [
    "df = pd.DataFrame({\"A\":[12, 4, 5, None, 1], \"B\":[7, 2, 54, 3, None], \n",
    "                   \"C\":[20, 16, 11, 3, 8], \n",
    "                   \"D\":[14, 3, None, 2, 6]})\n",
    "\n",
    "index1 = ['Row 1', 'Row 2', 'Row 3', 'Row 4', 'Row 5']\n",
    "\n",
    "df.index = index1\n",
    "\n",
    "print(df)"
   ]
  },
  {
   "cell_type": "code",
   "execution_count": 3,
   "id": "770a326b",
   "metadata": {},
   "outputs": [
    {
     "data": {
      "text/html": [
       "<div>\n",
       "<style scoped>\n",
       "    .dataframe tbody tr th:only-of-type {\n",
       "        vertical-align: middle;\n",
       "    }\n",
       "\n",
       "    .dataframe tbody tr th {\n",
       "        vertical-align: top;\n",
       "    }\n",
       "\n",
       "    .dataframe thead tr th {\n",
       "        text-align: left;\n",
       "    }\n",
       "</style>\n",
       "<table border=\"1\" class=\"dataframe\">\n",
       "  <thead>\n",
       "    <tr>\n",
       "      <th></th>\n",
       "      <th colspan=\"2\" halign=\"left\">A</th>\n",
       "      <th colspan=\"2\" halign=\"left\">B</th>\n",
       "      <th colspan=\"2\" halign=\"left\">C</th>\n",
       "      <th colspan=\"2\" halign=\"left\">D</th>\n",
       "    </tr>\n",
       "    <tr>\n",
       "      <th></th>\n",
       "      <th>sqrt</th>\n",
       "      <th>exp</th>\n",
       "      <th>sqrt</th>\n",
       "      <th>exp</th>\n",
       "      <th>sqrt</th>\n",
       "      <th>exp</th>\n",
       "      <th>sqrt</th>\n",
       "      <th>exp</th>\n",
       "    </tr>\n",
       "  </thead>\n",
       "  <tbody>\n",
       "    <tr>\n",
       "      <th>Row 1</th>\n",
       "      <td>3.464102</td>\n",
       "      <td>162754.791419</td>\n",
       "      <td>2.645751</td>\n",
       "      <td>1.096633e+03</td>\n",
       "      <td>4.472136</td>\n",
       "      <td>4.851652e+08</td>\n",
       "      <td>3.741657</td>\n",
       "      <td>1.202604e+06</td>\n",
       "    </tr>\n",
       "    <tr>\n",
       "      <th>Row 2</th>\n",
       "      <td>2.000000</td>\n",
       "      <td>54.598150</td>\n",
       "      <td>1.414214</td>\n",
       "      <td>7.389056e+00</td>\n",
       "      <td>4.000000</td>\n",
       "      <td>8.886111e+06</td>\n",
       "      <td>1.732051</td>\n",
       "      <td>2.008554e+01</td>\n",
       "    </tr>\n",
       "    <tr>\n",
       "      <th>Row 3</th>\n",
       "      <td>2.236068</td>\n",
       "      <td>148.413159</td>\n",
       "      <td>7.348469</td>\n",
       "      <td>2.830753e+23</td>\n",
       "      <td>3.316625</td>\n",
       "      <td>5.987414e+04</td>\n",
       "      <td>NaN</td>\n",
       "      <td>NaN</td>\n",
       "    </tr>\n",
       "    <tr>\n",
       "      <th>Row 4</th>\n",
       "      <td>NaN</td>\n",
       "      <td>NaN</td>\n",
       "      <td>1.732051</td>\n",
       "      <td>2.008554e+01</td>\n",
       "      <td>1.732051</td>\n",
       "      <td>2.008554e+01</td>\n",
       "      <td>1.414214</td>\n",
       "      <td>7.389056e+00</td>\n",
       "    </tr>\n",
       "    <tr>\n",
       "      <th>Row 5</th>\n",
       "      <td>1.000000</td>\n",
       "      <td>2.718282</td>\n",
       "      <td>NaN</td>\n",
       "      <td>NaN</td>\n",
       "      <td>2.828427</td>\n",
       "      <td>2.980958e+03</td>\n",
       "      <td>2.449490</td>\n",
       "      <td>4.034288e+02</td>\n",
       "    </tr>\n",
       "  </tbody>\n",
       "</table>\n",
       "</div>"
      ],
      "text/plain": [
       "              A                        B                       C  \\\n",
       "           sqrt            exp      sqrt           exp      sqrt   \n",
       "Row 1  3.464102  162754.791419  2.645751  1.096633e+03  4.472136   \n",
       "Row 2  2.000000      54.598150  1.414214  7.389056e+00  4.000000   \n",
       "Row 3  2.236068     148.413159  7.348469  2.830753e+23  3.316625   \n",
       "Row 4       NaN            NaN  1.732051  2.008554e+01  1.732051   \n",
       "Row 5  1.000000       2.718282       NaN           NaN  2.828427   \n",
       "\n",
       "                            D                \n",
       "                exp      sqrt           exp  \n",
       "Row 1  4.851652e+08  3.741657  1.202604e+06  \n",
       "Row 2  8.886111e+06  1.732051  2.008554e+01  \n",
       "Row 3  5.987414e+04       NaN           NaN  \n",
       "Row 4  2.008554e+01  1.414214  7.389056e+00  \n",
       "Row 5  2.980958e+03  2.449490  4.034288e+02  "
      ]
     },
     "execution_count": 3,
     "metadata": {},
     "output_type": "execute_result"
    }
   ],
   "source": [
    "result = df.transform(func = ['sqrt','exp'])\n",
    "result"
   ]
  },
  {
   "cell_type": "code",
   "execution_count": null,
   "id": "318a002f",
   "metadata": {},
   "outputs": [],
   "source": []
  }
 ],
 "metadata": {
  "kernelspec": {
   "display_name": "Python 3 (ipykernel)",
   "language": "python",
   "name": "python3"
  },
  "language_info": {
   "codemirror_mode": {
    "name": "ipython",
    "version": 3
   },
   "file_extension": ".py",
   "mimetype": "text/x-python",
   "name": "python",
   "nbconvert_exporter": "python",
   "pygments_lexer": "ipython3",
   "version": "3.11.3"
  }
 },
 "nbformat": 4,
 "nbformat_minor": 5
}
