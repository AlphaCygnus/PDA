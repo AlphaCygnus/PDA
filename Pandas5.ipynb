{
 "cells": [
  {
   "cell_type": "code",
   "execution_count": 1,
   "id": "8c2c002d",
   "metadata": {},
   "outputs": [],
   "source": [
    "import pandas as pd"
   ]
  },
  {
   "cell_type": "code",
   "execution_count": 2,
   "id": "fa933f12",
   "metadata": {},
   "outputs": [
    {
     "name": "stdout",
     "output_type": "stream",
     "text": [
      "\n",
      "Converted String to upper case:\n",
      "YOU CAN SEE HELSINKI LIGHTHOUSE FROM TALLINN!\n",
      "\n",
      "Converted String to lower case:\n",
      "you can see helsinki lighthouse from tallinn!\n",
      "\n",
      "Converted first letter to upper in every word:\n",
      "You Can See Helsinki Lighthouse From Tallinn!\n",
      "\n",
      "String Case Swapping:\n",
      "yOU CAN SEE hELSINKI LIGHTHOUSE FROM tALLINN!\n",
      "\n",
      "Converted String first leeer to upper:\n",
      "You can see helsinki lighthouse from tallinn!\n",
      "\n",
      "Original String\n",
      "You can see Helsinki lighthouse from Tallinn!\n"
     ]
    }
   ],
   "source": [
    "random_text = \"You can see Helsinki lighthouse from Tallinn!\"\n",
    "\n",
    "print(\"\\nConverted String to upper case:\")\n",
    "print(random_text.upper())\n",
    "\n",
    "print(\"\\nConverted String to lower case:\")\n",
    "print(random_text.lower())\n",
    "\n",
    "print(\"\\nConverted first letter to upper in every word:\")\n",
    "print(random_text.title())\n",
    "\n",
    "print(\"\\nString Case Swapping:\")\n",
    "print(random_text.swapcase())\n",
    "\n",
    "print(\"\\nConverted String first leeer to upper:\")\n",
    "print(random_text.capitalize())\n",
    "\n",
    "print(\"\\nOriginal String\")\n",
    "print(random_text)\n"
   ]
  },
  {
   "cell_type": "code",
   "execution_count": null,
   "id": "15067be4",
   "metadata": {},
   "outputs": [],
   "source": []
  }
 ],
 "metadata": {
  "kernelspec": {
   "display_name": "Python 3 (ipykernel)",
   "language": "python",
   "name": "python3"
  },
  "language_info": {
   "codemirror_mode": {
    "name": "ipython",
    "version": 3
   },
   "file_extension": ".py",
   "mimetype": "text/x-python",
   "name": "python",
   "nbconvert_exporter": "python",
   "pygments_lexer": "ipython3",
   "version": "3.11.3"
  }
 },
 "nbformat": 4,
 "nbformat_minor": 5
}
