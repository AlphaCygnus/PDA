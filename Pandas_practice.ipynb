{
 "cells": [
  {
   "cell_type": "code",
   "execution_count": 1,
   "id": "0e87bafb",
   "metadata": {},
   "outputs": [],
   "source": [
    "import pandas as pd"
   ]
  },
  {
   "cell_type": "code",
   "execution_count": 2,
   "id": "08160ef2",
   "metadata": {},
   "outputs": [
    {
     "data": {
      "text/plain": [
       "array([ 1,  3,  5,  7,  9, 11], dtype=int64)"
      ]
     },
     "execution_count": 2,
     "metadata": {},
     "output_type": "execute_result"
    }
   ],
   "source": [
    "#creating an array\n",
    "array = [1, 3, 5, 7, 9, 11]\n",
    "series_obj = pd.Series(array)\n",
    "arr = series_obj.values\n",
    "arr"
   ]
  },
  {
   "cell_type": "code",
   "execution_count": 4,
   "id": "f7c3a117",
   "metadata": {},
   "outputs": [
    {
     "data": {
      "text/plain": [
       "array([[ 1,  3,  5],\n",
       "       [ 7,  9, 11]], dtype=int64)"
      ]
     },
     "execution_count": 4,
     "metadata": {},
     "output_type": "execute_result"
    }
   ],
   "source": [
    "#reshaping the array\n",
    "reshape_arr = arr.reshape((2, 3))\n",
    "reshape_arr"
   ]
  },
  {
   "cell_type": "code",
   "execution_count": 6,
   "id": "4b426ed1",
   "metadata": {},
   "outputs": [
    {
     "name": "stdout",
     "output_type": "stream",
     "text": [
      "The Series:\n",
      " 0         Alan\n",
      "1         Sean\n",
      "2       Karpov\n",
      "3          Pam\n",
      "4       Xavier\n",
      "5    Armstrong\n",
      "dtype: object\n"
     ]
    },
    {
     "data": {
      "text/plain": [
       "array(['Alan', 'Sean', 'Karpov', 'Pam', 'Xavier', 'Armstrong'],\n",
       "      dtype=object)"
      ]
     },
     "execution_count": 6,
     "metadata": {},
     "output_type": "execute_result"
    }
   ],
   "source": [
    "#making an array\n",
    "array = [\"Alan\",\"Sean\",\n",
    "\"Karpov\", \"Pam\",\n",
    "\"Xavier\",\"Armstrong\"]\n",
    "\n",
    "series_obj = pd.Series(array)\n",
    "print(\"The Series:\\n\", series_obj)\n",
    "arr = series_obj.values\n",
    "arr"
   ]
  },
  {
   "cell_type": "code",
   "execution_count": 7,
   "id": "21c4fd61",
   "metadata": {},
   "outputs": [
    {
     "name": "stdout",
     "output_type": "stream",
     "text": [
      "After reshaping:\n",
      " [['Alan' 'Sean']\n",
      " ['Karpov' 'Pam']\n",
      " ['Xavier' 'Armstrong']]\n"
     ]
    }
   ],
   "source": [
    "reshaped_arr = arr.reshape((3,2))\n",
    "print(\"After reshaping:\\n\", reshaped_arr)"
   ]
  },
  {
   "cell_type": "code",
   "execution_count": 11,
   "id": "d3226913",
   "metadata": {},
   "outputs": [
    {
     "data": {
      "text/html": [
       "<div>\n",
       "<style scoped>\n",
       "    .dataframe tbody tr th:only-of-type {\n",
       "        vertical-align: middle;\n",
       "    }\n",
       "\n",
       "    .dataframe tbody tr th {\n",
       "        vertical-align: top;\n",
       "    }\n",
       "\n",
       "    .dataframe thead th {\n",
       "        text-align: right;\n",
       "    }\n",
       "</style>\n",
       "<table border=\"1\" class=\"dataframe\">\n",
       "  <thead>\n",
       "    <tr style=\"text-align: right;\">\n",
       "      <th></th>\n",
       "      <th>A</th>\n",
       "      <th>B</th>\n",
       "      <th>C</th>\n",
       "    </tr>\n",
       "  </thead>\n",
       "  <tbody>\n",
       "    <tr>\n",
       "      <th>0</th>\n",
       "      <td>Jamie</td>\n",
       "      <td>PhD</td>\n",
       "      <td>30</td>\n",
       "    </tr>\n",
       "    <tr>\n",
       "      <th>1</th>\n",
       "      <td>Bebe</td>\n",
       "      <td>Masters</td>\n",
       "      <td>26</td>\n",
       "    </tr>\n",
       "    <tr>\n",
       "      <th>2</th>\n",
       "      <td>Minerva</td>\n",
       "      <td>Masters</td>\n",
       "      <td>25</td>\n",
       "    </tr>\n",
       "  </tbody>\n",
       "</table>\n",
       "</div>"
      ],
      "text/plain": [
       "         A        B   C\n",
       "0    Jamie      PhD  30\n",
       "1     Bebe  Masters  26\n",
       "2  Minerva  Masters  25"
      ]
     },
     "execution_count": 11,
     "metadata": {},
     "output_type": "execute_result"
    }
   ],
   "source": [
    "df = pd.DataFrame({'A': ['Jamie', 'Bebe', 'Minerva'],\n",
    "                  'B': ['PhD', 'Masters', 'Masters'],\n",
    "                  'C': [30, 26, 25]})\n",
    "df"
   ]
  },
  {
   "cell_type": "code",
   "execution_count": 15,
   "id": "9da0d818",
   "metadata": {},
   "outputs": [
    {
     "data": {
      "text/html": [
       "<div>\n",
       "<style scoped>\n",
       "    .dataframe tbody tr th:only-of-type {\n",
       "        vertical-align: middle;\n",
       "    }\n",
       "\n",
       "    .dataframe tbody tr th {\n",
       "        vertical-align: top;\n",
       "    }\n",
       "\n",
       "    .dataframe thead tr th {\n",
       "        text-align: left;\n",
       "    }\n",
       "\n",
       "    .dataframe thead tr:last-of-type th {\n",
       "        text-align: right;\n",
       "    }\n",
       "</style>\n",
       "<table border=\"1\" class=\"dataframe\">\n",
       "  <thead>\n",
       "    <tr>\n",
       "      <th></th>\n",
       "      <th colspan=\"2\" halign=\"left\">C</th>\n",
       "      <th colspan=\"2\" halign=\"left\">A</th>\n",
       "    </tr>\n",
       "    <tr>\n",
       "      <th>B</th>\n",
       "      <th>Masters</th>\n",
       "      <th>PhD</th>\n",
       "      <th>Masters</th>\n",
       "      <th>PhD</th>\n",
       "    </tr>\n",
       "    <tr>\n",
       "      <th>A</th>\n",
       "      <th></th>\n",
       "      <th></th>\n",
       "      <th></th>\n",
       "      <th></th>\n",
       "    </tr>\n",
       "  </thead>\n",
       "  <tbody>\n",
       "    <tr>\n",
       "      <th>Bebe</th>\n",
       "      <td>26</td>\n",
       "      <td>NaN</td>\n",
       "      <td>Bebe</td>\n",
       "      <td>NaN</td>\n",
       "    </tr>\n",
       "    <tr>\n",
       "      <th>Jamie</th>\n",
       "      <td>NaN</td>\n",
       "      <td>30</td>\n",
       "      <td>NaN</td>\n",
       "      <td>Jamie</td>\n",
       "    </tr>\n",
       "    <tr>\n",
       "      <th>Minerva</th>\n",
       "      <td>25</td>\n",
       "      <td>NaN</td>\n",
       "      <td>Minerva</td>\n",
       "      <td>NaN</td>\n",
       "    </tr>\n",
       "  </tbody>\n",
       "</table>\n",
       "</div>"
      ],
      "text/plain": [
       "              C             A       \n",
       "B       Masters  PhD  Masters    PhD\n",
       "A                                   \n",
       "Bebe         26  NaN     Bebe    NaN\n",
       "Jamie       NaN   30      NaN  Jamie\n",
       "Minerva      25  NaN  Minerva    NaN"
      ]
     },
     "execution_count": 15,
     "metadata": {},
     "output_type": "execute_result"
    }
   ],
   "source": [
    "pivoted = df.pivot(index='A',columns= 'B', values=['C','A'])\n",
    "pivoted"
   ]
  },
  {
   "cell_type": "code",
   "execution_count": 19,
   "id": "ff168d2a",
   "metadata": {},
   "outputs": [
    {
     "name": "stdout",
     "output_type": "stream",
     "text": [
      "Dataset\n",
      "      Name  Gender  Age\n",
      "0   Jeremy    Male   45\n",
      "1   Serena  Female    6\n",
      "2  Stephan    Male    4\n",
      "3      Joe    Male   36\n",
      "4     Emma  Female   12\n",
      "5    Tommy    Male   32\n",
      "6  Cynthia  Female   22\n",
      "----------------------------------------\n",
      "Table\n",
      "                            Name\n",
      "Gender %Gender   Age Group      \n",
      "Female 42.857143 <18           2\n",
      "                 >18           1\n",
      "Male   57.142857 <18           1\n",
      "                 >18           3\n"
     ]
    }
   ],
   "source": [
    "import pandas as pd\n",
    "\n",
    "df = pd.DataFrame({'Name': ['Jeremy', 'Serena', 'Stephan', 'Joe', 'Emma', 'Tommy', 'Cynthia'],\n",
    "                   'Gender': ['Male', 'Female', 'Male', 'Male', 'Female', 'Male', 'Female'],\n",
    "                   'Age': [45, 6, 4, 36, 12, 32, 22]})\n",
    "\n",
    "print(\"Dataset\")\n",
    "print(df)\n",
    "print(\"-\" * 40)\n",
    "\n",
    "def age_bucket(age):\n",
    "    if age <= 18:\n",
    "        return \"<18\"\n",
    "    else:\n",
    "        return \">18\"\n",
    "\n",
    "df['Age Group'] = df['Age'].apply(age_bucket)\n",
    "\n",
    "gender = pd.DataFrame(df['Gender'].value_counts(normalize=True) * 100).reset_index()\n",
    "gender.columns = ['Gender', '%Gender']\n",
    "df = pd.merge(left=df, right=gender, how='inner', on=['Gender'])\n",
    "\n",
    "# Creating pivot table\n",
    "table = pd.pivot_table(df, index=['Gender', '%Gender', 'Age Group'],\n",
    "                       values=['Name'], aggfunc={'Name': 'count'})\n",
    "\n",
    "print(\"Table\")\n",
    "print(table)"
   ]
  },
  {
   "cell_type": "code",
   "execution_count": null,
   "id": "a1d7ddfb",
   "metadata": {},
   "outputs": [],
   "source": []
  }
 ],
 "metadata": {
  "kernelspec": {
   "display_name": "Python 3 (ipykernel)",
   "language": "python",
   "name": "python3"
  },
  "language_info": {
   "codemirror_mode": {
    "name": "ipython",
    "version": 3
   },
   "file_extension": ".py",
   "mimetype": "text/x-python",
   "name": "python",
   "nbconvert_exporter": "python",
   "pygments_lexer": "ipython3",
   "version": "3.11.3"
  }
 },
 "nbformat": 4,
 "nbformat_minor": 5
}
